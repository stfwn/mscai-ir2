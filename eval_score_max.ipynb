{
 "cells": [
  {
   "cell_type": "code",
   "execution_count": 1,
   "id": "70426939",
   "metadata": {},
   "outputs": [],
   "source": [
    "import pandas as pd\n",
    "import matplotlib.pyplot as plt\n",
    "import ir_measures\n",
    "from ir_measures import *"
   ]
  },
  {
   "cell_type": "code",
   "execution_count": 2,
   "id": "8b734926",
   "metadata": {},
   "outputs": [],
   "source": [
    "def evaluate(run: str, qrels_path: str, metrics: list) -> dict:\n",
    "    if isinstance(run, str):\n",
    "        run = ir_measures.read_trec_run(run)\n",
    "    qrels = ir_measures.read_trec_qrels(qrels_path)\n",
    "    return ir_measures.calc_aggregate(metrics, qrels, run)\n",
    "\n",
    "# SPECIFY RANKING AND QRELS\n",
    "qrels = './data/ms-marco/msmarco-docdev-qrels.tsv'\n",
    "ranking = './rankings/passages-ms-marco-rankingmax.tsv'\n",
    "ranking_to_docs = './rankings/passages-ms-marco-rankingmax-todocs.tsv' #be careful not to overwrite here\n",
    "\n",
    "k = 2000\n",
    "METRICS = [RR@10, RR@100, nDCG@10, R@1000, AP@100]"
   ]
  },
  {
   "cell_type": "code",
   "execution_count": 3,
   "id": "3ac1cb51",
   "metadata": {},
   "outputs": [
    {
     "data": {
      "text/html": [
       "<div>\n",
       "<style scoped>\n",
       "    .dataframe tbody tr th:only-of-type {\n",
       "        vertical-align: middle;\n",
       "    }\n",
       "\n",
       "    .dataframe tbody tr th {\n",
       "        vertical-align: top;\n",
       "    }\n",
       "\n",
       "    .dataframe thead th {\n",
       "        text-align: right;\n",
       "    }\n",
       "</style>\n",
       "<table border=\"1\" class=\"dataframe\">\n",
       "  <thead>\n",
       "    <tr style=\"text-align: right;\">\n",
       "      <th></th>\n",
       "      <th>q_id</th>\n",
       "      <th>iter</th>\n",
       "      <th>p_id</th>\n",
       "      <th>rank</th>\n",
       "      <th>score</th>\n",
       "      <th>name</th>\n",
       "    </tr>\n",
       "  </thead>\n",
       "  <tbody>\n",
       "    <tr>\n",
       "      <th>0</th>\n",
       "      <td>174249</td>\n",
       "      <td>0</td>\n",
       "      <td>D1987645_0</td>\n",
       "      <td>1</td>\n",
       "      <td>85.225204</td>\n",
       "      <td>passages-ms-marco-rankingmax</td>\n",
       "    </tr>\n",
       "    <tr>\n",
       "      <th>1</th>\n",
       "      <td>174249</td>\n",
       "      <td>0</td>\n",
       "      <td>D2126087_5</td>\n",
       "      <td>2</td>\n",
       "      <td>82.144936</td>\n",
       "      <td>passages-ms-marco-rankingmax</td>\n",
       "    </tr>\n",
       "    <tr>\n",
       "      <th>2</th>\n",
       "      <td>174249</td>\n",
       "      <td>0</td>\n",
       "      <td>D2168983_5</td>\n",
       "      <td>3</td>\n",
       "      <td>81.714188</td>\n",
       "      <td>passages-ms-marco-rankingmax</td>\n",
       "    </tr>\n",
       "    <tr>\n",
       "      <th>3</th>\n",
       "      <td>174249</td>\n",
       "      <td>0</td>\n",
       "      <td>D1296411_18</td>\n",
       "      <td>4</td>\n",
       "      <td>81.072876</td>\n",
       "      <td>passages-ms-marco-rankingmax</td>\n",
       "    </tr>\n",
       "    <tr>\n",
       "      <th>4</th>\n",
       "      <td>174249</td>\n",
       "      <td>0</td>\n",
       "      <td>D2735404_11</td>\n",
       "      <td>5</td>\n",
       "      <td>80.983276</td>\n",
       "      <td>passages-ms-marco-rankingmax</td>\n",
       "    </tr>\n",
       "    <tr>\n",
       "      <th>...</th>\n",
       "      <td>...</td>\n",
       "      <td>...</td>\n",
       "      <td>...</td>\n",
       "      <td>...</td>\n",
       "      <td>...</td>\n",
       "      <td>...</td>\n",
       "    </tr>\n",
       "    <tr>\n",
       "      <th>1995</th>\n",
       "      <td>174249</td>\n",
       "      <td>0</td>\n",
       "      <td>D2061348_13</td>\n",
       "      <td>1996</td>\n",
       "      <td>76.313011</td>\n",
       "      <td>passages-ms-marco-rankingmax</td>\n",
       "    </tr>\n",
       "    <tr>\n",
       "      <th>1996</th>\n",
       "      <td>174249</td>\n",
       "      <td>0</td>\n",
       "      <td>D2490916_4</td>\n",
       "      <td>1997</td>\n",
       "      <td>76.311806</td>\n",
       "      <td>passages-ms-marco-rankingmax</td>\n",
       "    </tr>\n",
       "    <tr>\n",
       "      <th>1997</th>\n",
       "      <td>174249</td>\n",
       "      <td>0</td>\n",
       "      <td>D2118492_4</td>\n",
       "      <td>1998</td>\n",
       "      <td>76.310394</td>\n",
       "      <td>passages-ms-marco-rankingmax</td>\n",
       "    </tr>\n",
       "    <tr>\n",
       "      <th>1998</th>\n",
       "      <td>174249</td>\n",
       "      <td>0</td>\n",
       "      <td>D233770_1</td>\n",
       "      <td>1999</td>\n",
       "      <td>76.309059</td>\n",
       "      <td>passages-ms-marco-rankingmax</td>\n",
       "    </tr>\n",
       "    <tr>\n",
       "      <th>1999</th>\n",
       "      <td>174249</td>\n",
       "      <td>0</td>\n",
       "      <td>D2292311_1</td>\n",
       "      <td>2000</td>\n",
       "      <td>76.308586</td>\n",
       "      <td>passages-ms-marco-rankingmax</td>\n",
       "    </tr>\n",
       "  </tbody>\n",
       "</table>\n",
       "<p>2000 rows × 6 columns</p>\n",
       "</div>"
      ],
      "text/plain": [
       "        q_id  iter         p_id  rank      score                          name\n",
       "0     174249     0   D1987645_0     1  85.225204  passages-ms-marco-rankingmax\n",
       "1     174249     0   D2126087_5     2  82.144936  passages-ms-marco-rankingmax\n",
       "2     174249     0   D2168983_5     3  81.714188  passages-ms-marco-rankingmax\n",
       "3     174249     0  D1296411_18     4  81.072876  passages-ms-marco-rankingmax\n",
       "4     174249     0  D2735404_11     5  80.983276  passages-ms-marco-rankingmax\n",
       "...      ...   ...          ...   ...        ...                           ...\n",
       "1995  174249     0  D2061348_13  1996  76.313011  passages-ms-marco-rankingmax\n",
       "1996  174249     0   D2490916_4  1997  76.311806  passages-ms-marco-rankingmax\n",
       "1997  174249     0   D2118492_4  1998  76.310394  passages-ms-marco-rankingmax\n",
       "1998  174249     0    D233770_1  1999  76.309059  passages-ms-marco-rankingmax\n",
       "1999  174249     0   D2292311_1  2000  76.308586  passages-ms-marco-rankingmax\n",
       "\n",
       "[2000 rows x 6 columns]"
      ]
     },
     "execution_count": 3,
     "metadata": {},
     "output_type": "execute_result"
    }
   ],
   "source": [
    "# LOAD DataFrame\n",
    "df = pd.read_csv(ranking, sep='\\t', usecols=range(6), names=['q_id', 'iter', 'p_id', 'rank', 'score', 'name'])\n",
    "df[:k]"
   ]
  },
  {
   "cell_type": "code",
   "execution_count": 4,
   "id": "9171263d",
   "metadata": {},
   "outputs": [],
   "source": [
    "# SEPARATE Doc_id , Passage_id\n",
    "df['doc_id'] = df['p_id'].apply(lambda x: x.split('_')[0])\n",
    "df['p_id'] = df['p_id'].apply(lambda x: int(x.split('_')[1]))"
   ]
  },
  {
   "cell_type": "code",
   "execution_count": 5,
   "id": "b11ec782",
   "metadata": {},
   "outputs": [],
   "source": [
    "# REMOVE DUPLICATE DOC_IDS\n",
    "tmp = []\n",
    "num_queries = 200\n",
    "for i in range(num_queries):\n",
    "    start = i*k\n",
    "    end = (i+1)*k\n",
    "    x = df[start:end].drop_duplicates(subset='doc_id', keep=\"first\")\n",
    "    # print(len(x)) # Use to examine amount of duplicates being removed\n",
    "    tmp.append(x)\n",
    "df = pd.concat(tmp)"
   ]
  },
  {
   "cell_type": "code",
   "execution_count": 6,
   "id": "3be2b66c",
   "metadata": {},
   "outputs": [
    {
     "data": {
      "image/png": "[encoded data removed]",
      "text/plain": [
       "<Figure size 432x288 with 1 Axes>"
      ]
     },
     "metadata": {
      "needs_background": "light"
     },
     "output_type": "display_data"
    },
    {
     "data": {
      "image/png": "[encoded data removed]",
      "text/plain": [
       "<Figure size 432x288 with 1 Axes>"
      ]
     },
     "metadata": {
      "needs_background": "light"
     },
     "output_type": "display_data"
    }
   ],
   "source": [
    "# COMPUTE bins and PLOT\n",
    "ax = df[\"p_id\"].plot.hist(bins=50,logy=True)\n",
    "ax.set_xlabel('Passage Number')\n",
    "plt.show()\n",
    "ax = df[df['p_id'] < 10]['p_id'].plot.hist(bins=10)\n",
    "ax.set_xlabel('Passage Number')\n",
    "plt.show()"
   ]
  },
  {
   "cell_type": "code",
   "execution_count": 7,
   "id": "f1b6f625",
   "metadata": {},
   "outputs": [
    {
     "name": "stdout",
     "output_type": "stream",
     "text": [
      "R@1000: 1.35\n",
      "nDCG@10: 0.73\n",
      "RR@100: 0.64\n",
      "RR@10: 0.63\n",
      "AP@100: 0.64\n"
     ]
    }
   ],
   "source": [
    "# EVALUATE\n",
    "df['p_id'] = df['doc_id']\n",
    "df = df.drop(['doc_id'], axis=1) # drop passage_ids\n",
    "df = df.rename(columns={'p_id':'d_id'})\n",
    "df.to_csv(ranking_to_docs, sep='\\t', index=False, header=None) # write to TREC format file\n",
    "results = evaluate(ranking_to_docs, qrels, METRICS)\n",
    "for metric, score in results.items():\n",
    "    print(\"{}: {:.2f}\".format(metric,score*100)) "
   ]
  },
  {
   "cell_type": "code",
   "execution_count": 8,
   "id": "bcf3337e",
   "metadata": {},
   "outputs": [
    {
     "data": {
      "text/plain": [
       "3.1622776601683795"
      ]
     },
     "execution_count": 8,
     "metadata": {},
     "output_type": "execute_result"
    }
   ],
   "source": [
    "import numpy as np\n",
    "x = np.array([3,1])\n",
    "np.linalg.norm(x)"
   ]
  },
  {
   "cell_type": "code",
   "execution_count": 9,
   "id": "a9950af3",
   "metadata": {},
   "outputs": [
    {
     "data": {
      "text/plain": [
       "2.23606797749979"
      ]
     },
     "execution_count": 9,
     "metadata": {},
     "output_type": "execute_result"
    }
   ],
   "source": [
    "y = np.array([-1,2])\n",
    "np.linalg.norm(y)"
   ]
  },
  {
   "cell_type": "code",
   "execution_count": 10,
   "id": "b056889e",
   "metadata": {},
   "outputs": [
    {
     "data": {
      "text/plain": [
       "-0.14142135623730948"
      ]
     },
     "execution_count": 10,
     "metadata": {},
     "output_type": "execute_result"
    }
   ],
   "source": [
    "np.dot(x,y)/(np.linalg.norm(x)*np.linalg.norm(y))"
   ]
  },
  {
   "cell_type": "code",
   "execution_count": 11,
   "id": "5d09ee03",
   "metadata": {},
   "outputs": [
    {
     "data": {
      "text/plain": [
       "-0.1414213562373095"
      ]
     },
     "execution_count": 11,
     "metadata": {},
     "output_type": "execute_result"
    }
   ],
   "source": [
    "np.dot(x/np.linalg.norm(x), y/np.linalg.norm(y))"
   ]
  },
  {
   "cell_type": "code",
   "execution_count": 12,
   "id": "635da52d",
   "metadata": {},
   "outputs": [
    {
     "data": {
      "text/plain": [
       "array([0.9486833 , 0.31622777])"
      ]
     },
     "execution_count": 12,
     "metadata": {},
     "output_type": "execute_result"
    }
   ],
   "source": [
    "x/np.linalg.norm(x,2)"
   ]
  },
  {
   "cell_type": "code",
   "execution_count": null,
   "id": "eb302224",
   "metadata": {},
   "outputs": [],
   "source": []
  }
 ],
 "metadata": {
  "kernelspec": {
   "display_name": "Python 3 (ipykernel)",
   "language": "python",
   "name": "python3"
  },
  "language_info": {
   "codemirror_mode": {
    "name": "ipython",
    "version": 3
   },
   "file_extension": ".py",
   "mimetype": "text/x-python",
   "name": "python",
   "nbconvert_exporter": "python",
   "pygments_lexer": "ipython3",
   "version": "3.9.9"
  }
 },
 "nbformat": 4,
 "nbformat_minor": 5
}
